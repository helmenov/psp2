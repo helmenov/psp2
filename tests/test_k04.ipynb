{
 "cells": [
  {
   "cell_type": "code",
   "execution_count": 5,
   "metadata": {},
   "outputs": [],
   "source": [
    "import color_quest"
   ]
  },
  {
   "cell_type": "code",
   "execution_count": 6,
   "metadata": {},
   "outputs": [
    {
     "data": {
      "image/png": "[encoded data removed]",
      "text/plain": [
       "<Figure size 640x480 with 1 Axes>"
      ]
     },
     "metadata": {},
     "output_type": "display_data"
    }
   ],
   "source": [
    "# create new question\n",
    "Q0 = color_quest.Quest()"
   ]
  },
  {
   "cell_type": "code",
   "execution_count": 7,
   "metadata": {},
   "outputs": [
    {
     "name": "stdout",
     "output_type": "stream",
     "text": [
      "Trial #0\n",
      "\t (R,G,B)?\n",
      "Q0.eval([127,127,127]) = 126.38829059687451\n",
      "Q0.n = 1\n",
      "Q0.trials = [[127, 127, 127]]\n",
      "Q0.dists = [126.38829059687451]\n",
      "Trial #0\n",
      "\t (R,G,B)?\n",
      "Q0.eval([127,127,127]) = 126.38829059687451\n",
      "Q0.n = 1\n",
      "Q0.trials = [[127, 127, 127]]\n",
      "Q0.dists = [126.38829059687451]\n"
     ]
    }
   ],
   "source": [
    "# show question\n",
    "Q0.quest()\n",
    "\n",
    "# trial and eval\n",
    "print(f'{Q0.eval([127,127,127]) = }')\n",
    "\n",
    "# number of trials\n",
    "print(f'{Q0.n = }')\n",
    "# trials\n",
    "print(f'{Q0.trials = }')\n",
    "# dists\n",
    "print(f'{Q0.dists = }')\n"
   ]
  },
  {
   "cell_type": "markdown",
   "metadata": {},
   "source": [
    "# ニュートン法で解く"
   ]
  },
  {
   "cell_type": "code",
   "execution_count": 8,
   "metadata": {},
   "outputs": [
    {
     "name": "stdout",
     "output_type": "stream",
     "text": [
      "trial#01\t[255   0   0]\tError:356.22745542700665\n",
      "trial#02\t[  0 255   0]\tError:235.58013498595335\n",
      "trial#03\t[  0   0 255]\tError:183.21571984958058\n",
      "trial#04\t[219 194  98]\tError:220.1226930600296\n",
      "trial#05\t[154 250 255]\tError:143.86104406683555\n",
      "trial#06\t[ 61 201 244]\tError:43.30127018922193\n",
      "trial#07\t[ 39 179 222]\tError:5.196152422706632\n",
      "trial#08\t[ 36 176 219]\tError:0.0\n",
      "Q.rgb_truth = (36, 176, 219)\n",
      "trial#01\t[255   0   0]\tError:356.22745542700665\n",
      "trial#02\t[  0 255   0]\tError:235.58013498595335\n",
      "trial#03\t[  0   0 255]\tError:183.21571984958058\n",
      "trial#04\t[219 194  98]\tError:220.1226930600296\n",
      "trial#05\t[154 250 255]\tError:143.86104406683555\n",
      "trial#06\t[ 61 201 244]\tError:43.30127018922193\n",
      "trial#07\t[ 39 179 222]\tError:5.196152422706632\n",
      "trial#08\t[ 36 176 219]\tError:0.0\n",
      "Q.rgb_truth = (36, 176, 219)\n"
     ]
    },
    {
     "data": {
      "image/png": "[encoded data removed]",
      "text/plain": [
       "<Figure size 640x480 with 1 Axes>"
      ]
     },
     "metadata": {},
     "output_type": "display_data"
    }
   ],
   "source": [
    "import numpy as np\n",
    "import color_quest\n",
    "\n",
    "rg = np.random.default_rng()\n",
    "\n",
    "# まず距離を測る3次元ベクトル(r,g,b)を3つ作る\n",
    "t = np.array([\n",
    "    [255,0,0],\n",
    "    [0,255,0],\n",
    "    [0,0,255]\n",
    "    ])\n",
    "\n",
    "Q = color_quest.Quest()\n",
    "\n",
    "class GPS:\n",
    "    def __init__(self,t):\n",
    "        self.t = t\n",
    "        d = list()\n",
    "        for i in range(3):\n",
    "            d.append(Q.eval(t[:,i]))\n",
    "        self.d = np.array(d)\n",
    "\n",
    "    def F(self,x):\n",
    "        f0 = (self.t[:,0]-x).T @ (self.t[:,0]-x) - self.d[0]**2\n",
    "        f1 = (self.t[:,1]-x).T @ (self.t[:,1]-x) - self.d[1]**2\n",
    "        f2 = (self.t[:,2]-x).T @ (self.t[:,2]-x) - self.d[2]**2\n",
    "        return np.array([f0,f1,f2])\n",
    "\n",
    "    def J(self,x):\n",
    "        return -2 * (self.t-x)\n",
    "\n",
    "gps = GPS(t)\n",
    "for i in range(3):\n",
    "    print(f'trial#{i+1:02d}\\t{gps.t[:,i]}\\tError:{gps.d[i]}')\n",
    "\n",
    "EPS = 1e-20\n",
    "e  = 1e+20\n",
    "x = rg.integers(low=0,high=255,size=(3,))\n",
    "while True:\n",
    "    d = Q.eval(x)\n",
    "    n = Q.n\n",
    "    print(f'trial#{n:02d}\\t{x}\\tError:{d}')\n",
    "    if d < EPS:\n",
    "        break\n",
    "\n",
    "    J_k_inv = np.linalg.inv(gps.J(x))\n",
    "    F_k = gps.F(x)\n",
    "    Delta_x = -J_k_inv @ F_k\n",
    "    #\"\"\"\n",
    "    for i in range(3):\n",
    "        y = x + Delta_x\n",
    "        if y[i] > 255:\n",
    "            Delta_x = (256-x[i])/Delta_x[i] * Delta_x\n",
    "        if y[i] < 0:\n",
    "            Delta_x = -x[i]/Delta_x[i] * Delta_x\n",
    "    #\"\"\"\n",
    "    x_new = x + Delta_x\n",
    "    e = np.linalg.norm(x_new - x)\n",
    "    x = x_new.copy().clip(min=0,max=255).astype(int)\n",
    "    \"\"\"\n",
    "    if e < EPS :\n",
    "        break\n",
    "    \"\"\"\n",
    "print(f'{Q.rgb_truth = }')\n",
    "\n",
    "\n"
   ]
  }
 ],
 "metadata": {
  "kernelspec": {
   "display_name": ".venv",
   "language": "python",
   "name": "python3"
  },
  "language_info": {
   "codemirror_mode": {
    "name": "ipython",
    "version": 3
   },
   "file_extension": ".py",
   "mimetype": "text/x-python",
   "name": "python",
   "nbconvert_exporter": "python",
   "pygments_lexer": "ipython3",
   "version": "3.12.3"
  }
 },
 "nbformat": 4,
 "nbformat_minor": 2
}
